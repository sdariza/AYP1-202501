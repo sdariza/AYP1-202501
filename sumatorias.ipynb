{
  "nbformat": 4,
  "nbformat_minor": 0,
  "metadata": {
    "colab": {
      "provenance": [],
      "authorship_tag": "ABX9TyN5jQenz4Laz2eL2twRMd42",
      "include_colab_link": true
    },
    "kernelspec": {
      "name": "python3",
      "display_name": "Python 3"
    },
    "language_info": {
      "name": "python"
    }
  },
  "cells": [
    {
      "cell_type": "markdown",
      "metadata": {
        "id": "view-in-github",
        "colab_type": "text"
      },
      "source": [
        "<a href=\"https://colab.research.google.com/github/sdariza/AYP1-202501/blob/master/sumatorias.ipynb\" target=\"_parent\"><img src=\"https://colab.research.google.com/assets/colab-badge.svg\" alt=\"Open In Colab\"/></a>"
      ]
    },
    {
      "cell_type": "markdown",
      "source": [
        "Sumatorias:\n",
        "\n",
        "$$\n",
        "\\sum_{i=v_0}^{v_f}f(i) = f(v_i) + f(v_{i+1}) + \\cdots + f(v_f)\n",
        "$$"
      ],
      "metadata": {
        "id": "8_4HdKy3_YO0"
      }
    },
    {
      "cell_type": "markdown",
      "source": [
        "Ejemplo:\n",
        "$$\n",
        "\\rightarrow \\sum_{x=1}^{n} \\underbrace{\\left(\\frac{x^2}{2^{x+1}}+5\\right)}_{f(x)}\n",
        "$$"
      ],
      "metadata": {
        "id": "WRFJOJ82AGIS"
      }
    },
    {
      "cell_type": "code",
      "source": [
        "from IPython.display import display, Math"
      ],
      "metadata": {
        "id": "-GTIAlbCKiL9"
      },
      "execution_count": null,
      "outputs": []
    },
    {
      "cell_type": "code",
      "source": [
        "n = int(input(\"Ingrese el límite superior: \"))\n",
        "sum = 0\n",
        "sumatoria = \"\"\n",
        "for x in range(1, n + 1,1):\n",
        "  # sumatoria de toda f(x) desde x=1 hasta n\n",
        "  sumatoria = sumatoria + f\"\\\\left(\\\\frac{{{x}^2}}{{2^{x+1}}}+5\\\\right) + \"\n",
        "  sum = sum + (x**2/2**(x+1) + 5)\n",
        "sumatoria = sumatoria + \" 0 =\" + str(sum)\n",
        "display(Math(sumatoria))"
      ],
      "metadata": {
        "colab": {
          "base_uri": "https://localhost:8080/",
          "height": 76
        },
        "id": "2VdzjLlPAysT",
        "outputId": "5de894bf-3c31-4e2e-dcec-d4a129c3d5ff"
      },
      "execution_count": null,
      "outputs": [
        {
          "name": "stdout",
          "output_type": "stream",
          "text": [
            "Ingrese el límite superior: 3\n"
          ]
        },
        {
          "output_type": "display_data",
          "data": {
            "text/plain": [
              "<IPython.core.display.Math object>"
            ],
            "text/latex": "$\\displaystyle \\left(\\frac{1^2}{2^2}+5\\right) + \\left(\\frac{2^2}{2^3}+5\\right) + \\left(\\frac{3^2}{2^4}+5\\right) +  0 =16.3125$"
          },
          "metadata": {}
        }
      ]
    },
    {
      "cell_type": "markdown",
      "source": [
        "$$\n",
        "\\sum_{i=1}^{n}\\left(\\sum_{j=1}^{i} \\underbrace{2 i - 1}_{f(i,j)}\\right)\n",
        "$$"
      ],
      "metadata": {
        "id": "FLVFiFNvFiGK"
      }
    },
    {
      "cell_type": "code",
      "source": [
        "n = int(input(\"Ingrese el límite superior: \"))\n",
        "sum = 0\n",
        "for i in range(1, n + 1, 1):\n",
        "  sumInt = 0\n",
        "  for j in range(1, i + 1, 1):\n",
        "    sumInt = sumInt + 2 * i - 1\n",
        "  sum = sum + sumInt\n",
        "print(sum)"
      ],
      "metadata": {
        "colab": {
          "base_uri": "https://localhost:8080/"
        },
        "id": "NkiZosWCFygy",
        "outputId": "67facc7c-9d72-4fd4-98da-631cc425dd60"
      },
      "execution_count": null,
      "outputs": [
        {
          "output_type": "stream",
          "name": "stdout",
          "text": [
            "Ingrese el límite superior: 2\n",
            "7\n"
          ]
        }
      ]
    }
  ]
}