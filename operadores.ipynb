{
  "nbformat": 4,
  "nbformat_minor": 0,
  "metadata": {
    "colab": {
      "provenance": [],
      "authorship_tag": "ABX9TyOM5nzUQ0k/p86M8XDoCPhw",
      "include_colab_link": true
    },
    "kernelspec": {
      "name": "python3",
      "display_name": "Python 3"
    },
    "language_info": {
      "name": "python"
    }
  },
  "cells": [
    {
      "cell_type": "markdown",
      "metadata": {
        "id": "view-in-github",
        "colab_type": "text"
      },
      "source": [
        "<a href=\"https://colab.research.google.com/github/sdariza/AYP1-202501/blob/master/operadores.ipynb\" target=\"_parent\"><img src=\"https://colab.research.google.com/assets/colab-badge.svg\" alt=\"Open In Colab\"/></a>"
      ]
    },
    {
      "cell_type": "markdown",
      "source": [
        "# **Operadores aritméticos**"
      ],
      "metadata": {
        "id": "_COhkhFqhsu8"
      }
    },
    {
      "cell_type": "code",
      "execution_count": null,
      "metadata": {
        "colab": {
          "base_uri": "https://localhost:8080/"
        },
        "id": "eTyoiTYrhqlk",
        "outputId": "6f436934-5a27-4bee-9bc2-b2b0e72fb4cd"
      },
      "outputs": [
        {
          "output_type": "stream",
          "name": "stdout",
          "text": [
            "2+2+3+5+4 =  16\n",
            "2-2-3-5-4 =  -12\n",
            "2*2*3*5*4 =  240\n",
            "5/4 =  1.25\n",
            "8541//542 =  15\n",
            "8541%542 =  411\n",
            "(5255//544) + 85 mod 15 ^ 34 =  94\n",
            "(85 // 52 + (78 // 5 mod 3 + (48 mod 5) ^ (14 mod 7))) * 78 ^ (115 // 52) =  12168\n"
          ]
        }
      ],
      "source": [
        "#suma\n",
        "print(\"2+2+3+5+4 = \",2+2+3+5+4)\n",
        "\n",
        "#Resta\n",
        "print(\"2-2-3-5-4 = \",2-2-3-5-4)\n",
        "\n",
        "#Multiplicación\n",
        "print(\"2*2*3*5*4 = \",2*2*3*5*4)\n",
        "#División\n",
        "print(\"5/4 = \",5/4)\n",
        "\n",
        "#División parte entera\n",
        "print(\"8541//542 = \",8541//542)\n",
        "\n",
        "#Módulo de la división\n",
        "print(\"8541%542 = \",8541%542)\n",
        "\n",
        "\n",
        "#Combinados\n",
        "\n",
        "print(\"(5255//544) + 85 mod 15 ^ 34 = \", (5255//544) + 85 % 15 ** 34)\n",
        "\n",
        "print(\"(85 // 52 + (78 // 5 mod 3 + (48 mod 5) ^ (14 mod 7))) * 78 ^ (115 // 52) = \", (85 // 52 + (78 // 5 % 3 + (48 % 5) ** (14 % 7))) * 78 ** (115 // 52))"
      ]
    },
    {
      "cell_type": "markdown",
      "source": [
        "# **Operadores relacionales**"
      ],
      "metadata": {
        "id": "lnpOkQKzh-7r"
      }
    },
    {
      "cell_type": "code",
      "source": [
        "#Mayor que: >\n",
        "print(\"5254 > 524 ?\", 5254 > 524)\n",
        "#Menor que:\n",
        "print(\"84568 < 2511 ?\", 84568 < 2511)\n",
        "print(\"2511 < 84568 ?\", 2511 < 84568)\n",
        "\n",
        "#Mayor o igual que:\n",
        "print(\"2511 >= 5422 ?\", 2511 <= 5422)\n",
        "print(\"25115 >= 5422 ?\", 2511 >= 5422)\n",
        "\n",
        "#Menor o igual que:\n",
        "print(\"84568 < 2511 ?\", 84568 < 2511)\n",
        "print(\"2511 < 84568 ?\", 2511 < 84568)\n",
        "\n",
        "#Igual que:\n",
        "print(\"84568 = 2511 ?\", 84568 == 2511)\n",
        "print(\"2511 = 84568 ?\", 2511 == 84568)\n",
        "\n",
        "#Combinados:\n",
        "print(\"(525 // 241) <= (455 + 554 // 5) + 5 ?\", (525 // 241) <= (455 + 554 // 5) + 5)"
      ],
      "metadata": {
        "colab": {
          "base_uri": "https://localhost:8080/"
        },
        "id": "jVIHEu6XiMGW",
        "outputId": "8f961425-1cef-4919-bbbc-a5d4c8578848"
      },
      "execution_count": null,
      "outputs": [
        {
          "output_type": "stream",
          "name": "stdout",
          "text": [
            "5254 > 524 ? True\n",
            "84568 < 2511 ? False\n",
            "2511 < 84568 ? True\n",
            "2511 >= 5422 ? True\n",
            "25115 >= 5422 ? False\n",
            "84568 < 2511 ? False\n",
            "2511 < 84568 ? True\n",
            "84568 = 2511 ? False\n",
            "2511 = 84568 ? False\n",
            "(525 // 241) <= (455 + 554 // 5) + 5 ? True\n"
          ]
        }
      ]
    },
    {
      "cell_type": "markdown",
      "source": [
        "# **Operadores lógicos**"
      ],
      "metadata": {
        "id": "RM6Ve1ouiMY1"
      }
    },
    {
      "cell_type": "code",
      "source": [
        "#And: and\n",
        "print(\"85 > 4 and 145 > 57 //6 ?\", 85 > 4 and 145 > 57 //6 )\n",
        "\n",
        "#Or: or\n",
        "print(\"85 > 4 or 145 > 57 //6 ?\", 85 > 4 or 145 > 57 //6 )\n",
        "\n",
        "#Not: not\n",
        "print(\"not (85 > 4 or 145 > 57 //6) ?\", not (85 > 4 or 145 > 57 //6 ))"
      ],
      "metadata": {
        "colab": {
          "base_uri": "https://localhost:8080/"
        },
        "id": "koPfzYZPiPWl",
        "outputId": "cf9f9092-6902-4d4a-9bbb-4a527c2b20cb"
      },
      "execution_count": null,
      "outputs": [
        {
          "output_type": "stream",
          "name": "stdout",
          "text": [
            "85 > 4 and 145 > 57 //6 ? True\n",
            "85 > 4 or 145 > 57 //6 ? True\n",
            "not (85 > 4 or 145 > 57 //6) ? False\n"
          ]
        }
      ]
    }
  ]
}