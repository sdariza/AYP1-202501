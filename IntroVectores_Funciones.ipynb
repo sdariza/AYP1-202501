{
  "nbformat": 4,
  "nbformat_minor": 0,
  "metadata": {
    "colab": {
      "provenance": []
    },
    "kernelspec": {
      "name": "python3",
      "display_name": "Python 3"
    },
    "language_info": {
      "name": "python"
    }
  },
  "cells": [
    {
      "cell_type": "markdown",
      "source": [
        "Los vectores en el lenguaje los modelamos/representamos con listas en pytho.\n",
        "\n",
        "La forma para declarar una lista en python es de la siguiente manera:\n",
        "\n",
        "`list_name = []`"
      ],
      "metadata": {
        "id": "dn0_-I1aR5-i"
      }
    },
    {
      "cell_type": "markdown",
      "source": [
        "Ejercicio:\n",
        "\n",
        "Realiza un algoritmo para generar una lista con los números naturales del 1 al n"
      ],
      "metadata": {
        "id": "mYZP14k_STcS"
      }
    },
    {
      "cell_type": "code",
      "execution_count": 10,
      "metadata": {
        "id": "ayLNyaSyRrZD"
      },
      "outputs": [],
      "source": [
        "def generarNaturales(cant):\n",
        "  data = []\n",
        "  for i in range(0, cant):\n",
        "    data.append(i+1) # data[i] = i + 1 --> append es añadirlo al final\n",
        "  return data"
      ]
    },
    {
      "cell_type": "code",
      "source": [
        "h = 6\n",
        "nums = generarNaturales(h)\n",
        "print(f\"nums = {nums}\")"
      ],
      "metadata": {
        "colab": {
          "base_uri": "https://localhost:8080/"
        },
        "id": "h9-i7l5fTGcC",
        "outputId": "60065d01-8622-4b6d-b013-dff1211f0884"
      },
      "execution_count": 11,
      "outputs": [
        {
          "output_type": "stream",
          "name": "stdout",
          "text": [
            "nums = [1, 2, 3, 4, 5, 6]\n"
          ]
        }
      ]
    },
    {
      "cell_type": "markdown",
      "source": [
        "Realiza un algoritmo que genere un vector con todos los números pares del vector generado\n"
      ],
      "metadata": {
        "id": "Yz9fpEraS_YC"
      }
    },
    {
      "cell_type": "code",
      "source": [
        "def generarVecPar(data:list, cant):\n",
        "  dataPar = []\n",
        "  for i in range(0, cant):\n",
        "    if data[i] % 2 == 0:\n",
        "      dataPar.append(data[i])\n",
        "  return dataPar"
      ],
      "metadata": {
        "id": "Gm2vOzXrSyFa"
      },
      "execution_count": 12,
      "outputs": []
    },
    {
      "cell_type": "code",
      "source": [
        "numsPar = generarVecPar(nums, h)\n",
        "print(f\"numsPar = {numsPar}\")"
      ],
      "metadata": {
        "colab": {
          "base_uri": "https://localhost:8080/"
        },
        "id": "XabBZDd9T3U7",
        "outputId": "4a63f4ad-199c-49c4-999e-55a3441dcc36"
      },
      "execution_count": 15,
      "outputs": [
        {
          "output_type": "stream",
          "name": "stdout",
          "text": [
            "numsPar = [2, 4, 6]\n"
          ]
        }
      ]
    },
    {
      "cell_type": "markdown",
      "source": [
        "Realice un algoritmo que busque un elemento dado en un vector"
      ],
      "metadata": {
        "id": "Dzd8In3kWU0U"
      }
    },
    {
      "cell_type": "code",
      "source": [
        "def sequentian_search_v(data:list, cant, x):\n",
        "  for i in range(0, cant):\n",
        "    if data[i] == x:\n",
        "      return True\n",
        "  return False"
      ],
      "metadata": {
        "id": "gMHSqha1Wea0"
      },
      "execution_count": 16,
      "outputs": []
    },
    {
      "cell_type": "code",
      "source": [
        "p = 5\n",
        "if sequentian_search_v(nums, h, p):\n",
        "  print(f\"El numero {p} se encuentra en el vector\")\n",
        "else:\n",
        "  print(f\"El numero {p} no se encuentra en el vector\")"
      ],
      "metadata": {
        "colab": {
          "base_uri": "https://localhost:8080/"
        },
        "id": "yEMPPVX4WvX0",
        "outputId": "0f29d087-3633-4811-a62b-00b911552d59"
      },
      "execution_count": 17,
      "outputs": [
        {
          "output_type": "stream",
          "name": "stdout",
          "text": [
            "El numero 5 se encuentra en el vector\n"
          ]
        }
      ]
    },
    {
      "cell_type": "markdown",
      "source": [
        "Realice un algoritmo para ordenar ascendentemente los elemento de un vector dado"
      ],
      "metadata": {
        "id": "96RzfX9CXYR1"
      }
    },
    {
      "cell_type": "code",
      "source": [
        "def bubble_sort(data:list, cant):\n",
        "  for i in range(0, cant-1):\n",
        "    for j in range(i+1, cant):\n",
        "      if data[i] > data[j]:\n",
        "        t = data[i]\n",
        "        data[i] = data[j]\n",
        "        data[j] = t"
      ],
      "metadata": {
        "id": "m6ExJjNfXezl"
      },
      "execution_count": 24,
      "outputs": []
    },
    {
      "cell_type": "code",
      "source": [
        "task_list = [100, 20, 10, 15, 0, -1, 25, 50, 3.1415]\n",
        "n = len(task_list)\n",
        "bubble_sort(task_list, n)\n",
        "print(f\"nums = {task_list}\")"
      ],
      "metadata": {
        "colab": {
          "base_uri": "https://localhost:8080/"
        },
        "id": "sF932TBbXpCs",
        "outputId": "c7ff0018-67ab-4a20-a16e-3ae32e51a672"
      },
      "execution_count": 29,
      "outputs": [
        {
          "output_type": "stream",
          "name": "stdout",
          "text": [
            "nums = [-1, 0, 3.1415, 10, 15, 20, 25, 50, 100]\n"
          ]
        }
      ]
    },
    {
      "cell_type": "markdown",
      "source": [
        "Realice un algoritmo para invertir los elementos de un vector dado"
      ],
      "metadata": {
        "id": "7R1w30BKdqNi"
      }
    },
    {
      "cell_type": "code",
      "source": [
        "def invVector(data:list, cant):\n",
        "  for i in range(0, cant//2):\n",
        "    t = data[i]\n",
        "    data[i] = data[cant-i-1]\n",
        "    data[cant-i-1] = t"
      ],
      "metadata": {
        "id": "0Exq6m0-d1jy"
      },
      "execution_count": 30,
      "outputs": []
    },
    {
      "cell_type": "code",
      "source": [
        "invVector(task_list, n)\n",
        "print(f\"nums = {task_list}\")"
      ],
      "metadata": {
        "colab": {
          "base_uri": "https://localhost:8080/"
        },
        "id": "aw6NxmJYd5Uq",
        "outputId": "d7dfe2a6-60cc-4e63-a644-c33c40482af4"
      },
      "execution_count": 31,
      "outputs": [
        {
          "output_type": "stream",
          "name": "stdout",
          "text": [
            "nums = [100, 50, 25, 20, 15, 10, 3.1415, 0, -1]\n"
          ]
        }
      ]
    }
  ]
}