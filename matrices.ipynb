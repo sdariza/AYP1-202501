{
  "nbformat": 4,
  "nbformat_minor": 0,
  "metadata": {
    "colab": {
      "provenance": [],
      "authorship_tag": "ABX9TyMttWmRoze1gvDULyep0Nr7",
      "include_colab_link": true
    },
    "kernelspec": {
      "name": "python3",
      "display_name": "Python 3"
    },
    "language_info": {
      "name": "python"
    }
  },
  "cells": [
    {
      "cell_type": "markdown",
      "metadata": {
        "id": "view-in-github",
        "colab_type": "text"
      },
      "source": [
        "<a href=\"https://colab.research.google.com/github/sdariza/AYP1-202501/blob/master/matrices.ipynb\" target=\"_parent\"><img src=\"https://colab.research.google.com/assets/colab-badge.svg\" alt=\"Open In Colab\"/></a>"
      ]
    },
    {
      "cell_type": "markdown",
      "source": [
        "# **Leer matriz cuadrada**\n",
        "\n",
        "En python las matrices las simulamos con una lista de listas. Es decir, A = [[...],[...], ... ,[...]]\n"
      ],
      "metadata": {
        "id": "dvEHqCvvTQFj"
      }
    },
    {
      "cell_type": "code",
      "source": [
        "import numpy as np"
      ],
      "metadata": {
        "id": "johZNgJxWsO4"
      },
      "execution_count": null,
      "outputs": []
    },
    {
      "cell_type": "code",
      "execution_count": null,
      "metadata": {
        "id": "4NQmeFVgRHj5"
      },
      "outputs": [],
      "source": [
        "def leer_matriz_cuadrada(n):\n",
        "  matriz = np.zeros(shape=(n,n), dtype=int)\n",
        "  for i in range(n):\n",
        "    for j in range(n):\n",
        "      matriz[i][j] = int(input(f\"Ingrese el valor para la posición ({i}, {j}): \"))\n",
        "  return matriz"
      ]
    },
    {
      "cell_type": "markdown",
      "source": [
        "Sumar y restar dos matrices"
      ],
      "metadata": {
        "id": "KYfbZMM6T9Pz"
      }
    },
    {
      "cell_type": "code",
      "source": [
        "def sumarRestarMatricesCuadradas(matriz1, matriz2, n,signo):\n",
        "  C = np.zeros(shape=(n,n), dtype=int)# C = matriz1 + matriz2\n",
        "  for i in range(n):\n",
        "    for j in range(n):\n",
        "      C[i][j] = matriz1[i][j] + matriz2[i][j] * signo\n",
        "  return C"
      ],
      "metadata": {
        "id": "gYUtSlw2UAES"
      },
      "execution_count": null,
      "outputs": []
    },
    {
      "cell_type": "code",
      "source": [
        "n = int(input(\"Ingrese el tamaño de la matriz: \"))\n",
        "A = leer_matriz_cuadrada(n)\n",
        "B = leer_matriz_cuadrada(n)\n",
        "C = sumarRestarMatricesCuadradas(A,B,n,1)\n",
        "print(f\"C={C}\")"
      ],
      "metadata": {
        "colab": {
          "base_uri": "https://localhost:8080/"
        },
        "id": "_rdQEK23XjfI",
        "outputId": "fd327660-cee6-4871-bb97-4d759faafa57"
      },
      "execution_count": null,
      "outputs": [
        {
          "output_type": "stream",
          "name": "stdout",
          "text": [
            "Ingrese el tamaño de la matriz: 2\n",
            "Ingrese el valor para la posición (0, 0): 1\n",
            "Ingrese el valor para la posición (0, 1): 2\n",
            "Ingrese el valor para la posición (1, 0): 2\n",
            "Ingrese el valor para la posición (1, 1): 1\n",
            "Ingrese el valor para la posición (0, 0): 4\n",
            "Ingrese el valor para la posición (0, 1): 5\n",
            "Ingrese el valor para la posición (1, 0): 5\n",
            "Ingrese el valor para la posición (1, 1): 4\n",
            "C=[[5 7]\n",
            " [7 5]]\n"
          ]
        }
      ]
    },
    {
      "cell_type": "markdown",
      "source": [
        "Genere un vector con todos los promedios por fila"
      ],
      "metadata": {
        "id": "tC1fO4uKYtbS"
      }
    },
    {
      "cell_type": "code",
      "source": [
        "def promedioFilas(matriz, n, m):\n",
        "  promedios = np.zeros(shape=(n), dtype=float)\n",
        "  for i in range(n):\n",
        "    for j in range(m):\n",
        "      promedios[i] = promedios[i] matriz[i][j]\n",
        "    promedios[i] /= m\n",
        "  return promedios"
      ],
      "metadata": {
        "id": "OavMoF3bYtFJ"
      },
      "execution_count": null,
      "outputs": []
    },
    {
      "cell_type": "code",
      "source": [
        "def mayorElemMatrizC(matriz, n):\n",
        "  mayor = matriz[0][0]\n",
        "  for i in range(n):\n",
        "    for j in range(n):\n",
        "      if matriz[i][j] > mayor:\n",
        "        mayor = matriz[i][j]\n",
        "  return mayor"
      ],
      "metadata": {
        "id": "MlvE7dBcZvMN"
      },
      "execution_count": null,
      "outputs": []
    },
    {
      "cell_type": "markdown",
      "source": [
        "Calcule la transpuesta de una matriz"
      ],
      "metadata": {
        "id": "rpVjWHBea7FW"
      }
    },
    {
      "cell_type": "code",
      "source": [
        "def transpuestaMatriz(matriz, n, m):\n",
        "  matrizT = np.zeros(shape=(m,n), dtype=int)\n",
        "  for i in range(n):\n",
        "    for j in range(m):\n",
        "      matrizT[j][i] = matriz[i][j]\n",
        "  return matrizT"
      ],
      "metadata": {
        "id": "8T1R-kK8a6r2"
      },
      "execution_count": null,
      "outputs": []
    },
    {
      "cell_type": "markdown",
      "source": [
        "Determine si una matriz es simétrica"
      ],
      "metadata": {
        "id": "t96xcB_sbzwg"
      }
    },
    {
      "cell_type": "code",
      "source": [
        "def esSimetrico(matriz, n, m):\n",
        "  if n == m:\n",
        "    for i in range(n):\n",
        "      for j in range(n):\n",
        "        if matriz[i][j] != matriz[j][i]:\n",
        "            return False\n",
        "    return True\n",
        "  return False"
      ],
      "metadata": {
        "id": "zZOLSqYib0Mf"
      },
      "execution_count": null,
      "outputs": []
    }
  ]
}