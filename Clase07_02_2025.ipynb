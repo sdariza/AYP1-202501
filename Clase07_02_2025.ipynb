{
  "nbformat": 4,
  "nbformat_minor": 0,
  "metadata": {
    "colab": {
      "provenance": [],
      "authorship_tag": "ABX9TyMQKlIL3x95AuYwv7XF6Tee",
      "include_colab_link": true
    },
    "kernelspec": {
      "name": "python3",
      "display_name": "Python 3"
    },
    "language_info": {
      "name": "python"
    }
  },
  "cells": [
    {
      "cell_type": "markdown",
      "metadata": {
        "id": "view-in-github",
        "colab_type": "text"
      },
      "source": [
        "<a href=\"https://colab.research.google.com/github/sdariza/AYP1-202501/blob/master/Clase07_02_2025.ipynb\" target=\"_parent\"><img src=\"https://colab.research.google.com/assets/colab-badge.svg\" alt=\"Open In Colab\"/></a>"
      ]
    },
    {
      "cell_type": "code",
      "source": [
        "!pwd"
      ],
      "metadata": {
        "colab": {
          "base_uri": "https://localhost:8080/"
        },
        "id": "ZN0QytpADQg2",
        "outputId": "76c60bd2-3e79-493d-d045-1775c2eed424"
      },
      "execution_count": null,
      "outputs": [
        {
          "output_type": "stream",
          "name": "stdout",
          "text": [
            "/content\n"
          ]
        }
      ]
    },
    {
      "cell_type": "code",
      "execution_count": null,
      "metadata": {
        "colab": {
          "base_uri": "https://localhost:8080/"
        },
        "id": "VGm3Fs4EBg2S",
        "outputId": "893e5bc0-9032-4456-f6d3-1eef4b83258f"
      },
      "outputs": [
        {
          "output_type": "stream",
          "name": "stdout",
          "text": [
            "sample_data\n"
          ]
        }
      ],
      "source": [
        "!ls"
      ]
    },
    {
      "cell_type": "markdown",
      "source": [
        "Realice un algoritmo para calcular el área de un círculo\n",
        "\n",
        "\n",
        "\n",
        "```\n",
        "INICIO\n",
        "| REAL: r, a, pi <-- 3.141592653589793\n",
        "| ESC(\"Ingrese el radio del círculo\")\n",
        "| LEA r\n",
        "| a <-- pi * r * r\n",
        "| ESC(\"El área del círculo es: \", a)\n",
        "FIN\n",
        "```\n",
        "\n"
      ],
      "metadata": {
        "id": "tQmh20UzDekN"
      }
    },
    {
      "cell_type": "code",
      "source": [
        "#INICIO\n",
        "pi = 3.141592653589793\n",
        "r = float(input(\"Ingrese el radio: \"))\n",
        "a = pi * r * r\n",
        "print(f\"El área del círculo es: {a}\")\n",
        "#FIN"
      ],
      "metadata": {
        "colab": {
          "base_uri": "https://localhost:8080/"
        },
        "id": "c3fkrCbCFWJ4",
        "outputId": "3bae9634-59c8-4037-b4ca-fc2f7fd9d33c"
      },
      "execution_count": null,
      "outputs": [
        {
          "output_type": "stream",
          "name": "stdout",
          "text": [
            "Ingrese el radio: 35.4\n",
            "El área del círculo es: 3936.9182497725847\n"
          ]
        }
      ]
    }
  ]
}