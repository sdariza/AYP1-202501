{
  "nbformat": 4,
  "nbformat_minor": 0,
  "metadata": {
    "colab": {
      "provenance": [],
      "authorship_tag": "ABX9TyPdeE+MlwGbolKwbB2xN0mb",
      "include_colab_link": true
    },
    "kernelspec": {
      "name": "python3",
      "display_name": "Python 3"
    },
    "language_info": {
      "name": "python"
    }
  },
  "cells": [
    {
      "cell_type": "markdown",
      "metadata": {
        "id": "view-in-github",
        "colab_type": "text"
      },
      "source": [
        "<a href=\"https://colab.research.google.com/github/sdariza/AYP1-202501/blob/master/productorias.ipynb\" target=\"_parent\"><img src=\"https://colab.research.google.com/assets/colab-badge.svg\" alt=\"Open In Colab\"/></a>"
      ]
    },
    {
      "cell_type": "markdown",
      "source": [
        "Productorias\n",
        "$$\n",
        "\\prod_{i=1}^{n}f(i)= f(1) * f(2) * f(3) * \\cdots * f(n)\n",
        "$$"
      ],
      "metadata": {
        "id": "NJhRmg-WG9YB"
      }
    },
    {
      "cell_type": "markdown",
      "source": [
        "Ejemplos"
      ],
      "metadata": {
        "id": "cAMdi94zIBFi"
      }
    },
    {
      "cell_type": "markdown",
      "source": [
        "$$\n",
        "\\prod_{i=1}^{n}\\underbrace{4}_{f(i)}= \\underbrace{4}_{f(1)} * \\underbrace{4}_{f(2)} * \\underbrace{4}_{f(3)} * \\cdots * \\underbrace{4}_{f(n)} = 4^n\n",
        "$$"
      ],
      "metadata": {
        "id": "rvGjjxDxHeHa"
      }
    },
    {
      "cell_type": "code",
      "execution_count": null,
      "metadata": {
        "colab": {
          "base_uri": "https://localhost:8080/"
        },
        "id": "pKxWslIjG8Wi",
        "outputId": "fe268f86-34dd-49fd-aed2-176ee4d21594"
      },
      "outputs": [
        {
          "output_type": "stream",
          "name": "stdout",
          "text": [
            "Ingrese el límite superior: 10\n",
            "1048576\n"
          ]
        }
      ],
      "source": [
        "n = 0; prod = 1\n",
        "while n <=0:\n",
        "  n = int(input(\"Ingrese el límite superior: \"))\n",
        "for i in range(1, n + 1, 1):\n",
        "  prod = prod * 4 #f(i) = 4\n",
        "print(prod)"
      ]
    },
    {
      "cell_type": "markdown",
      "source": [
        "$$\n",
        "\\prod_{i=1}^{n}\\underbrace{a}_{f(i)}= \\underbrace{a}_{f(1)} * \\underbrace{a}_{f(2)} * \\underbrace{a}_{f(3)} * \\cdots * \\underbrace{a}_{f(n)} = a^n\n",
        "$$"
      ],
      "metadata": {
        "id": "Hkhh4BxeJneL"
      }
    },
    {
      "cell_type": "code",
      "source": [
        "n = 0; prod = 1\n",
        "while n <=0:\n",
        "  n = int(input(\"Ingrese el límite superior: \"))\n",
        "a = int(input(\"Ingrese el valor de a: \"))\n",
        "for i in range(1, n + 1, 1):\n",
        "  prod = prod * a #f(i) = a\n",
        "print(f\"{a}^{n}={prod}\")"
      ],
      "metadata": {
        "colab": {
          "base_uri": "https://localhost:8080/"
        },
        "id": "LAOP45LLJh1b",
        "outputId": "83e8a270-2ac1-4bcd-92f7-411e22d54e0f"
      },
      "execution_count": null,
      "outputs": [
        {
          "output_type": "stream",
          "name": "stdout",
          "text": [
            "Ingrese el límite superior: 2\n",
            "Ingrese el valor de a: 5\n",
            "5^2=25\n"
          ]
        }
      ]
    },
    {
      "cell_type": "markdown",
      "source": [
        "$$\n",
        "\\prod_{i=1}^{n}\\underbrace{i}_{f(i)}= \\underbrace{1}_{f(1)} * \\underbrace{2}_{f(2)} * \\underbrace{3}_{f(3)} * \\cdots * \\underbrace{n}_{f(n)} = n!\n",
        "$$"
      ],
      "metadata": {
        "id": "E37PLTApKJr8"
      }
    },
    {
      "cell_type": "code",
      "source": [
        "n = -1; prod = 1\n",
        "while n < 0:\n",
        "  n = int(input(\"Ingrese el límite superior: \"))\n",
        "for i in range(1, n + 1, 1):\n",
        "  prod = prod * i #f(i) = i\n",
        "print(f\"{n}!={prod}\")"
      ],
      "metadata": {
        "colab": {
          "base_uri": "https://localhost:8080/"
        },
        "id": "LIRanVl2KhDr",
        "outputId": "ae10f976-070d-4ef3-ba29-4d309e7cdf1e"
      },
      "execution_count": null,
      "outputs": [
        {
          "output_type": "stream",
          "name": "stdout",
          "text": [
            "Ingrese el límite superior: 5\n",
            "5!=120\n"
          ]
        }
      ]
    },
    {
      "cell_type": "markdown",
      "source": [
        "$$\n",
        "\\sum_{i=1}^{n}\\left(\\prod_{k=1}^{i}\\underbrace{\\frac{2i}{k}}_{f(i,k)}\\right)\n",
        "$$"
      ],
      "metadata": {
        "id": "KMh4b4NwKek0"
      }
    },
    {
      "cell_type": "code",
      "source": [
        "n = 0; prod = 1; sum = 0\n",
        "while n <= 0:\n",
        "  n = int(input(\"Ingrese el límite superior: \"))\n",
        "\n",
        "for i in range(1, n + 1, 1):\n",
        "  prod = 1\n",
        "  for k in range(1, i + 1, 1):\n",
        "    prod = prod * 2 * i / k # f(i,k)\n",
        "  sum = sum + prod\n",
        "\n",
        "print(sum)"
      ],
      "metadata": {
        "colab": {
          "base_uri": "https://localhost:8080/"
        },
        "id": "64XsUv-sP8hR",
        "outputId": "1efcba59-d3b3-45f2-d6a9-721d0d47700b"
      },
      "execution_count": null,
      "outputs": [
        {
          "output_type": "stream",
          "name": "stdout",
          "text": [
            "Ingrese el límite superior: 3\n",
            "46.0\n"
          ]
        }
      ]
    }
  ]
}